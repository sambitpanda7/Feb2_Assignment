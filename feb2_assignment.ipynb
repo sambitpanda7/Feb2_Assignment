{
 "cells": [
  {
   "cell_type": "markdown",
   "metadata": {},
   "source": [
    "Ans1:The characteristics of tuples are they are used to store multipe items in a single variable. A tuple is a collection which is ordered.\n",
    "Yes tuples are immutable data types.\n",
    "\n",
    "Ans2: The two tuple methods in python are count() and index() method. Tuples can not be modified as they are immutable where as Lists can be modified thats why tuples have only two built-in methods as compared to lists.\n",
    "\n",
    "Ans3: Sets do not allow duplicate items in it. \n",
    "list1=[{1,2,3,4,4,4,4,4,5,5,56,7,7,7}]\n",
    "list1\n",
    "\n",
    "Ans4: The main difference between the union() method and the update() method is that union() returns a new set that contains all the elements from both sets, while update() modifies one of the sets to include all the elements from both sets.\n",
    "\n",
    "Ans5: Dictionary are mutable data structures that allows you to strore key-value pairs. Dictionaries are unordered in python.\n",
    "\n",
    "Ans6: Yes we can create a Nested Dictionary. \n",
    "dict1={\"key\":{\"college\": \"ITER\",\"name\":\"sambit panda\" }}\n",
    "dict1\n",
    "\n",
    "Ans8: The three view objects in python are keys,values and items. "
   ]
  },
  {
   "cell_type": "code",
   "execution_count": 6,
   "metadata": {},
   "outputs": [
    {
     "data": {
      "text/plain": [
       "1"
      ]
     },
     "execution_count": 6,
     "metadata": {},
     "output_type": "execute_result"
    }
   ],
   "source": [
    "# Ans2. Example of tuple methods, count method\n",
    "data=(1,2,3,4,5)\n",
    "data.count(3)\n"
   ]
  },
  {
   "cell_type": "code",
   "execution_count": 5,
   "metadata": {},
   "outputs": [
    {
     "data": {
      "text/plain": [
       "2"
      ]
     },
     "execution_count": 5,
     "metadata": {},
     "output_type": "execute_result"
    }
   ],
   "source": [
    "# Ans2. Example of tuple methods, index method\n",
    "data.index(3)"
   ]
  },
  {
   "cell_type": "code",
   "execution_count": 9,
   "metadata": {},
   "outputs": [
    {
     "data": {
      "text/plain": [
       "[{1, 2, 3, 4, 5, 7, 56}]"
      ]
     },
     "execution_count": 9,
     "metadata": {},
     "output_type": "execute_result"
    }
   ],
   "source": [
    "#Ans3: CODE USING SET TO REMOVE DUPLICATES FROM THE GIVEN LIST\n",
    "list1=[{1,2,3,4,4,4,4,4,5,5,56,7,7,7}]\n",
    "list1\n"
   ]
  },
  {
   "cell_type": "code",
   "execution_count": 13,
   "metadata": {},
   "outputs": [
    {
     "data": {
      "text/plain": [
       "{'key': {'college': 'ITER', 'name': 'sambit panda'}}"
      ]
     },
     "execution_count": 13,
     "metadata": {},
     "output_type": "execute_result"
    }
   ],
   "source": [
    "#ANS6: EXAMPLE\n",
    "dict1={\"key\":{\"college\": \"ITER\",\"name\":\"sambit panda\" }}\n",
    "dict1"
   ]
  },
  {
   "cell_type": "code",
   "execution_count": 19,
   "metadata": {},
   "outputs": [
    {
     "name": "stdout",
     "output_type": "stream",
     "text": [
      "{'language': 'Python', 'Course': 'Data science', 'Topic1': ('Python', 'Machine learning', 'Deep learning')}\n"
     ]
    }
   ],
   "source": [
    "#Ans7\n",
    "dict2 = {\"language\":\"Python\",\"Course\":\"Data science\"}\n",
    "\n",
    "\n",
    "dict2.setdefault(\"Topic1\",(\"Python\",\"Machine learning\",\"Deep learning\"))\n",
    "print(dict2)"
   ]
  },
  {
   "cell_type": "code",
   "execution_count": 21,
   "metadata": {},
   "outputs": [
    {
     "data": {
      "text/plain": [
       "dict_keys(['Sport', 'Teams'])"
      ]
     },
     "execution_count": 21,
     "metadata": {},
     "output_type": "execute_result"
    }
   ],
   "source": [
    "#Ans 8: code\n",
    "dict1 = {'Sport':'Cricket','Teams':['India','Australia','England','South Africa','Sri Lanka', 'New zealand']}\n",
    "dict1.keys()"
   ]
  },
  {
   "cell_type": "code",
   "execution_count": 22,
   "metadata": {},
   "outputs": [
    {
     "data": {
      "text/plain": [
       "dict_values(['Cricket', ['India', 'Australia', 'England', 'South Africa', 'Sri Lanka', 'New zealand']])"
      ]
     },
     "execution_count": 22,
     "metadata": {},
     "output_type": "execute_result"
    }
   ],
   "source": [
    "#Ans8: Code\n",
    "dict1.values()\n"
   ]
  },
  {
   "cell_type": "code",
   "execution_count": 23,
   "metadata": {},
   "outputs": [
    {
     "data": {
      "text/plain": [
       "dict_items([('Sport', 'Cricket'), ('Teams', ['India', 'Australia', 'England', 'South Africa', 'Sri Lanka', 'New zealand'])])"
      ]
     },
     "execution_count": 23,
     "metadata": {},
     "output_type": "execute_result"
    }
   ],
   "source": [
    "#Ans8: Code\n",
    "dict1.items()"
   ]
  }
 ],
 "metadata": {
  "kernelspec": {
   "display_name": "Python 3",
   "language": "python",
   "name": "python3"
  },
  "language_info": {
   "codemirror_mode": {
    "name": "ipython",
    "version": 3
   },
   "file_extension": ".py",
   "mimetype": "text/x-python",
   "name": "python",
   "nbconvert_exporter": "python",
   "pygments_lexer": "ipython3",
   "version": "3.11.4"
  },
  "orig_nbformat": 4
 },
 "nbformat": 4,
 "nbformat_minor": 2
}
